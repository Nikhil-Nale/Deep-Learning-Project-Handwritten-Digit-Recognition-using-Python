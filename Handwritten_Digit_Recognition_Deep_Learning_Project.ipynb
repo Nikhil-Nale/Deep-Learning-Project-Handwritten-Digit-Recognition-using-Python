{
  "nbformat": 4,
  "nbformat_minor": 0,
  "metadata": {
    "colab": {
      "name": "Handwritten Digit Recognition Deep Learning Project.ipynb",
      "provenance": [],
      "collapsed_sections": []
    },
    "kernelspec": {
      "name": "python3",
      "display_name": "Python 3"
    },
    "language_info": {
      "name": "python"
    }
  },
  "cells": [
    {
      "cell_type": "code",
      "metadata": {
        "colab": {
          "base_uri": "https://localhost:8080/"
        },
        "id": "ErRNKdpHLtYG",
        "outputId": "06a28b8e-2665-4e0d-98f5-daa77c260549"
      },
      "source": [
        "!pip install numpy, tensorflow, keras, pillow"
      ],
      "execution_count": 1,
      "outputs": [
        {
          "output_type": "stream",
          "text": [
            "\u001b[31mERROR: Invalid requirement: 'numpy,'\u001b[0m\n"
          ],
          "name": "stdout"
        }
      ]
    },
    {
      "cell_type": "code",
      "metadata": {
        "colab": {
          "base_uri": "https://localhost:8080/"
        },
        "id": "Z45LzyJzMoxG",
        "outputId": "7a3cc899-8a8f-4f71-b1e3-3fd7a84ff6eb"
      },
      "source": [
        "#  Import the libraries and load the dataset\n",
        "import keras\n",
        "from keras.datasets import mnist\n",
        "from keras.models import Sequential\n",
        "from keras.layers import Dense, Dropout, Flatten\n",
        "from keras.layers import Conv2D, MaxPool2D\n",
        "from keras import backend as K\n",
        "\n",
        "# the data, split between train and test sets\n",
        "(x_train, y_train), (x_test, y_test) = mnist.load_data()\n",
        "\n",
        "print(x_train.shape, y_train.shape)"
      ],
      "execution_count": 2,
      "outputs": [
        {
          "output_type": "stream",
          "text": [
            "Downloading data from https://storage.googleapis.com/tensorflow/tf-keras-datasets/mnist.npz\n",
            "11493376/11490434 [==============================] - 0s 0us/step\n",
            "(60000, 28, 28) (60000,)\n"
          ],
          "name": "stdout"
        }
      ]
    },
    {
      "cell_type": "code",
      "metadata": {
        "id": "-nUqF8h-krQS"
      },
      "source": [
        ""
      ],
      "execution_count": null,
      "outputs": []
    },
    {
      "cell_type": "code",
      "metadata": {
        "colab": {
          "base_uri": "https://localhost:8080/"
        },
        "id": "lRjbNX6FQACv",
        "outputId": "75a2b8c6-bfaa-4c42-acfc-b552a8fe7016"
      },
      "source": [
        "x_train.shape[0]"
      ],
      "execution_count": 5,
      "outputs": [
        {
          "output_type": "execute_result",
          "data": {
            "text/plain": [
              "60000"
            ]
          },
          "metadata": {
            "tags": []
          },
          "execution_count": 5
        }
      ]
    },
    {
      "cell_type": "code",
      "metadata": {
        "colab": {
          "base_uri": "https://localhost:8080/"
        },
        "id": "atyyzMweQIS8",
        "outputId": "63df1c7b-e334-49ef-f919-76dc53573880"
      },
      "source": [
        "x_test.shape[0]"
      ],
      "execution_count": 6,
      "outputs": [
        {
          "output_type": "execute_result",
          "data": {
            "text/plain": [
              "10000"
            ]
          },
          "metadata": {
            "tags": []
          },
          "execution_count": 6
        }
      ]
    },
    {
      "cell_type": "code",
      "metadata": {
        "colab": {
          "base_uri": "https://localhost:8080/"
        },
        "id": "kWDlVB8hRTTH",
        "outputId": "5f7b2ff4-1ef4-412a-838d-a821c6a98bb7"
      },
      "source": [
        "type(x_train)"
      ],
      "execution_count": 7,
      "outputs": [
        {
          "output_type": "execute_result",
          "data": {
            "text/plain": [
              "numpy.ndarray"
            ]
          },
          "metadata": {
            "tags": []
          },
          "execution_count": 7
        }
      ]
    },
    {
      "cell_type": "code",
      "metadata": {
        "colab": {
          "base_uri": "https://localhost:8080/"
        },
        "id": "_W68fSDIRkCC",
        "outputId": "ef1a44d2-e795-44a6-c09b-89df1b12da68"
      },
      "source": [
        "type(x_test)"
      ],
      "execution_count": 8,
      "outputs": [
        {
          "output_type": "execute_result",
          "data": {
            "text/plain": [
              "numpy.ndarray"
            ]
          },
          "metadata": {
            "tags": []
          },
          "execution_count": 8
        }
      ]
    },
    {
      "cell_type": "code",
      "metadata": {
        "colab": {
          "base_uri": "https://localhost:8080/"
        },
        "id": "GcWSmPRkOllY",
        "outputId": "46decd85-cf69-4d8a-dc39-876ea919ad4d"
      },
      "source": [
        "# Preprocess the data\n",
        "x_train = x_train.reshape(x_train.shape[0], 28, 28, 1)\n",
        "x_test = x_test.reshape(x_test.shape[0], 28, 28, 1)\n",
        "input_shape = (28, 28, 1)\n",
        "\n",
        "# conver class vectors to binary class matrices\n",
        "y_train = keras.utils.to_categorical(y_train, num_classes=None )\n",
        "y_test = keras.utils.to_categorical(y_test, num_classes=None)\n",
        "\n",
        "x_train = x_train.astype('float32')\n",
        "x_test = x_test.astype('float32')\n",
        "x_train /= 255\n",
        "x_test /= 255\n",
        "print('x_train shape:', x_train.shape)\n",
        "print(x_train.shape[0], 'train samples')\n",
        "print(x_test.shape, 'test samples')"
      ],
      "execution_count": 10,
      "outputs": [
        {
          "output_type": "stream",
          "text": [
            "x_train shape: (60000, 28, 28, 1)\n",
            "60000 train samples\n",
            "(10000, 28, 28, 1) test samples\n"
          ],
          "name": "stdout"
        }
      ]
    },
    {
      "cell_type": "code",
      "metadata": {
        "id": "8s4w5VdYSX_T"
      },
      "source": [
        "# Create the model\n",
        "batch_size = 128\n",
        "num_classes = 10\n",
        "epochs = 10\n",
        "\n",
        "model = Sequential()\n",
        "model.add(Conv2D(32, kernel_size=(3,3), activation='relu', input_shape=input_shape))\n",
        "model.add(Conv2D(64, (3,3), activation='relu'))\n",
        "model.add(MaxPool2D(pool_size=(2,2)))\n",
        "model.add(Dropout(0.25))\n",
        "model.add(Flatten())\n",
        "model.add(Dense(256, activation='relu'))\n",
        "model.add(Dropout(0.5))\n",
        "model.add(Dense(num_classes, activation='softmax'))\n",
        "\n",
        "# Compile the model\n",
        "model.compile(loss=keras.losses.categorical_crossentropy, optimizer=keras.optimizers.Adadelta(), metrics=['accuracy'])"
      ],
      "execution_count": 13,
      "outputs": []
    },
    {
      "cell_type": "code",
      "metadata": {
        "colab": {
          "base_uri": "https://localhost:8080/"
        },
        "id": "7Jd1A1WVYSjq",
        "outputId": "cc64bcdc-71d5-45e9-afb6-30ff55af213f"
      },
      "source": [
        "# Train the model\n",
        "hist = model.fit(x_train, y_train, batch_size=batch_size, epochs=epochs, verbose=1, validation_data=(x_test, y_test))\n",
        "print(\"Model has successfully trained\")\n",
        "\n",
        "model.save('mnist.h5')\n",
        "print(\"Saving the model as mnist.h5\")"
      ],
      "execution_count": 14,
      "outputs": [
        {
          "output_type": "stream",
          "text": [
            "Epoch 1/10\n",
            "469/469 [==============================] - 156s 331ms/step - loss: 2.2893 - accuracy: 0.1366 - val_loss: 2.2591 - val_accuracy: 0.3722\n",
            "Epoch 2/10\n",
            "469/469 [==============================] - 155s 331ms/step - loss: 2.2544 - accuracy: 0.2653 - val_loss: 2.2101 - val_accuracy: 0.5885\n",
            "Epoch 3/10\n",
            "469/469 [==============================] - 155s 330ms/step - loss: 2.2046 - accuracy: 0.3908 - val_loss: 2.1369 - val_accuracy: 0.6532\n",
            "Epoch 4/10\n",
            "469/469 [==============================] - 156s 332ms/step - loss: 2.1298 - accuracy: 0.4795 - val_loss: 2.0256 - val_accuracy: 0.6847\n",
            "Epoch 5/10\n",
            "469/469 [==============================] - 155s 330ms/step - loss: 2.0170 - accuracy: 0.5385 - val_loss: 1.8612 - val_accuracy: 0.7160\n",
            "Epoch 6/10\n",
            "469/469 [==============================] - 155s 331ms/step - loss: 1.8558 - accuracy: 0.5870 - val_loss: 1.6375 - val_accuracy: 0.7436\n",
            "Epoch 7/10\n",
            "469/469 [==============================] - 156s 332ms/step - loss: 1.6446 - accuracy: 0.6309 - val_loss: 1.3766 - val_accuracy: 0.7694\n",
            "Epoch 8/10\n",
            "469/469 [==============================] - 156s 332ms/step - loss: 1.4199 - accuracy: 0.6601 - val_loss: 1.1305 - val_accuracy: 0.7922\n",
            "Epoch 9/10\n",
            "469/469 [==============================] - 156s 332ms/step - loss: 1.2187 - accuracy: 0.6859 - val_loss: 0.9381 - val_accuracy: 0.8063\n",
            "Epoch 10/10\n",
            "469/469 [==============================] - 156s 332ms/step - loss: 1.0589 - accuracy: 0.7082 - val_loss: 0.8017 - val_accuracy: 0.8235\n",
            "Model has successfully trained\n",
            "Saving the model as mnist.h5\n"
          ],
          "name": "stdout"
        }
      ]
    },
    {
      "cell_type": "code",
      "metadata": {
        "colab": {
          "base_uri": "https://localhost:8080/"
        },
        "id": "emJaCAxeaCv9",
        "outputId": "181a94fd-2998-41f7-d5fc-f2fcdaf41592"
      },
      "source": [
        "# Evaluate the model\n",
        "score = model.evaluate(x_test, y_test, verbose=0)\n",
        "print('Test loss:', score[0])\n",
        "print('Test Accuracy:', score[1])"
      ],
      "execution_count": 15,
      "outputs": [
        {
          "output_type": "stream",
          "text": [
            "Test loss: 0.8016896843910217\n",
            "Test Accuracy: 0.8234999775886536\n"
          ],
          "name": "stdout"
        }
      ]
    },
    {
      "cell_type": "code",
      "metadata": {
        "id": "HSHuUH9rjTfv"
      },
      "source": [
        ""
      ],
      "execution_count": null,
      "outputs": []
    }
  ]
}